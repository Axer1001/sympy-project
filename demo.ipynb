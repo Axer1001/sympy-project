{
 "cells": [
  {
   "cell_type": "markdown",
   "metadata": {
    "tags": []
   },
   "source": [
    "### Демонстрация работы метода trig_transform \n",
    " Результаты работы метода для интегралов из курса математического анализа"
   ]
  },
  {
   "cell_type": "code",
   "execution_count": 33,
   "metadata": {
    "tags": []
   },
   "outputs": [],
   "source": [
    "# imports\n",
    "from sympy import Symbol\n",
    "from sympy import sqrt, sin, cos, tan, atan\n",
    "from sympy import Integral\n",
    "from sympy import Abs\n",
    "from sympy import pi"
   ]
  },
  {
   "cell_type": "markdown",
   "metadata": {},
   "source": [
    "#### Неопределенные интегралы"
   ]
  },
  {
   "cell_type": "code",
   "execution_count": 34,
   "metadata": {},
   "outputs": [],
   "source": [
    "# variables\n",
    "x = Symbol('x')\n",
    "t = Symbol('t', real=True)"
   ]
  },
  {
   "cell_type": "code",
   "execution_count": 35,
   "metadata": {},
   "outputs": [
    {
     "data": {
      "text/latex": [
       "$\\displaystyle \\int \\frac{\\sqrt{4 - x^{2}}}{x}\\, dx$"
      ],
      "text/plain": [
       "Integral(sqrt(4 - x**2)/x, x)"
      ]
     },
     "execution_count": 35,
     "metadata": {},
     "output_type": "execute_result"
    }
   ],
   "source": [
    "I = Integral(sqrt(4 - x**2)/x,x)\n",
    "I"
   ]
  },
  {
   "cell_type": "code",
   "execution_count": 36,
   "metadata": {},
   "outputs": [
    {
     "data": {
      "text/latex": [
       "$\\displaystyle \\int \\frac{2 \\cos{\\left(t \\right)}}{\\tan{\\left(t \\right)}}\\, dt$"
      ],
      "text/plain": [
       "Integral(2*cos(t)/tan(t), t)"
      ]
     },
     "execution_count": 36,
     "metadata": {},
     "output_type": "execute_result"
    }
   ],
   "source": [
    "I.trig_transform(x, 2 * sin(t))"
   ]
  },
  {
   "cell_type": "code",
   "execution_count": 37,
   "metadata": {},
   "outputs": [
    {
     "data": {
      "text/latex": [
       "$\\displaystyle \\int \\frac{1}{\\left(x^{2} + 1\\right)^{\\frac{3}{2}}}\\, dx$"
      ],
      "text/plain": [
       "Integral((x**2 + 1)**(-3/2), x)"
      ]
     },
     "execution_count": 37,
     "metadata": {},
     "output_type": "execute_result"
    }
   ],
   "source": [
    "I = Integral(1/sqrt(1 + x**2) ** 3, x)\n",
    "I"
   ]
  },
  {
   "cell_type": "code",
   "execution_count": 38,
   "metadata": {},
   "outputs": [
    {
     "data": {
      "text/latex": [
       "$\\displaystyle \\int \\cos{\\left(t \\right)}\\, dt$"
      ],
      "text/plain": [
       "Integral(cos(t), t)"
      ]
     },
     "execution_count": 38,
     "metadata": {},
     "output_type": "execute_result"
    }
   ],
   "source": [
    "I.trig_transform(x, tan(t))"
   ]
  },
  {
   "cell_type": "code",
   "execution_count": 39,
   "metadata": {},
   "outputs": [
    {
     "data": {
      "text/latex": [
       "$\\displaystyle \\int \\frac{x}{\\sqrt{x^{2} - 4}}\\, dx$"
      ],
      "text/plain": [
       "Integral(x/sqrt(x**2 - 4), x)"
      ]
     },
     "execution_count": 39,
     "metadata": {},
     "output_type": "execute_result"
    }
   ],
   "source": [
    "I = Integral(x/sqrt(x**2 - 4), x)\n",
    "I"
   ]
  },
  {
   "cell_type": "code",
   "execution_count": 40,
   "metadata": {},
   "outputs": [
    {
     "data": {
      "text/latex": [
       "$\\displaystyle \\int \\left(- \\frac{2}{\\sin^{2}{\\left(t \\right)}}\\right)\\, dt$"
      ],
      "text/plain": [
       "Integral(-2/sin(t)**2, t)"
      ]
     },
     "execution_count": 40,
     "metadata": {},
     "output_type": "execute_result"
    }
   ],
   "source": [
    "I.trig_transform(x, 2 / sin(t))"
   ]
  },
  {
   "cell_type": "markdown",
   "metadata": {},
   "source": [
    "#### Определенные интегралы"
   ]
  },
  {
   "cell_type": "code",
   "execution_count": 41,
   "metadata": {},
   "outputs": [
    {
     "data": {
      "text/latex": [
       "$\\displaystyle \\int\\limits_{1}^{3} \\frac{x^{3} - 1}{\\sqrt{9 - x^{2}}}\\, dx$"
      ],
      "text/plain": [
       "Integral((x**3 - 1)/sqrt(9 - x**2), (x, 1, 3))"
      ]
     },
     "execution_count": 41,
     "metadata": {},
     "output_type": "execute_result"
    }
   ],
   "source": [
    "I = Integral((x**3 - 1)/sqrt(9 - x**2), (x, 1,3))\n",
    "I"
   ]
  },
  {
   "cell_type": "code",
   "execution_count": 42,
   "metadata": {},
   "outputs": [
    {
     "data": {
      "text/latex": [
       "$\\displaystyle \\int\\limits_{\\operatorname{asin}{\\left(\\frac{1}{3} \\right)}}^{\\frac{\\pi}{2}} \\left(27 \\sin^{3}{\\left(t \\right)} - 1\\right)\\, dt$"
      ],
      "text/plain": [
       "Integral(27*sin(t)**3 - 1, (t, asin(1/3), pi/2))"
      ]
     },
     "execution_count": 42,
     "metadata": {},
     "output_type": "execute_result"
    }
   ],
   "source": [
    "I.trig_transform(x, 3 * sin(t))"
   ]
  },
  {
   "cell_type": "code",
   "execution_count": 43,
   "metadata": {},
   "outputs": [
    {
     "data": {
      "text/latex": [
       "$\\displaystyle \\int\\limits_{1}^{2} \\left(- 2 \\sqrt{x^{2} - 1}\\right)\\, dx$"
      ],
      "text/plain": [
       "Integral(-2*sqrt(x**2 - 1), (x, 1, 2))"
      ]
     },
     "execution_count": 43,
     "metadata": {},
     "output_type": "execute_result"
    }
   ],
   "source": [
    "I = Integral(-2 * sqrt(x**2 - 1), (x, 1, 2))\n",
    "I"
   ]
  },
  {
   "cell_type": "code",
   "execution_count": 44,
   "metadata": {},
   "outputs": [
    {
     "data": {
      "text/latex": [
       "$\\displaystyle \\int\\limits_{\\frac{\\pi}{6}}^{\\frac{\\pi}{2}} \\left(\\frac{2}{\\sin{\\left(t \\right)}} - \\frac{2}{\\sin^{3}{\\left(t \\right)}}\\right)\\, dt$"
      ],
      "text/plain": [
       "Integral(2/sin(t) - 2/sin(t)**3, (t, pi/6, pi/2))"
      ]
     },
     "execution_count": 44,
     "metadata": {},
     "output_type": "execute_result"
    }
   ],
   "source": [
    "I.trig_transform(x, 1 / sin(t))"
   ]
  },
  {
   "cell_type": "code",
   "execution_count": 45,
   "metadata": {},
   "outputs": [
    {
     "data": {
      "text/latex": [
       "$\\displaystyle \\int\\limits_{\\frac{\\pi}{4}}^{1} \\frac{x - 1}{\\sqrt{x^{2} + 4}}\\, dx$"
      ],
      "text/plain": [
       "Integral((x - 1)/sqrt(x**2 + 4), (x, pi/4, 1))"
      ]
     },
     "execution_count": 45,
     "metadata": {},
     "output_type": "execute_result"
    }
   ],
   "source": [
    "I = Integral((x-1) / sqrt (x**2 + 4), (x, pi/4, 1))\n",
    "I"
   ]
  },
  {
   "cell_type": "code",
   "execution_count": 46,
   "metadata": {},
   "outputs": [
    {
     "data": {
      "text/latex": [
       "$\\displaystyle \\int\\limits_{\\operatorname{atan}{\\left(\\frac{\\pi}{8} \\right)}}^{\\operatorname{atan}{\\left(\\frac{1}{2} \\right)}} \\frac{2 \\tan{\\left(t \\right)} - 1}{\\cos{\\left(t \\right)}}\\, dt$"
      ],
      "text/plain": [
       "Integral((2*tan(t) - 1)/cos(t), (t, atan(pi/8), atan(1/2)))"
      ]
     },
     "execution_count": 46,
     "metadata": {},
     "output_type": "execute_result"
    }
   ],
   "source": [
    "I.trig_transform(x, 2 * tan(t))"
   ]
  },
  {
   "cell_type": "code",
   "execution_count": null,
   "metadata": {},
   "outputs": [],
   "source": []
  }
 ],
 "metadata": {
  "kernelspec": {
   "display_name": "Python 3",
   "language": "python",
   "name": "python3"
  },
  "language_info": {
   "codemirror_mode": {
    "name": "ipython",
    "version": 3
   },
   "file_extension": ".py",
   "mimetype": "text/x-python",
   "name": "python",
   "nbconvert_exporter": "python",
   "pygments_lexer": "ipython3",
   "version": "3.8.5"
  }
 },
 "nbformat": 4,
 "nbformat_minor": 4
}
